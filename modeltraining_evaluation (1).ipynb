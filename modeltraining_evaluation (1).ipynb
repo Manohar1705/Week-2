{
 "cells": [
  {
   "cell_type": "code",
   "execution_count": 5,
   "id": "65b9322e-5ebb-4d12-934b-026612d2f089",
   "metadata": {},
   "outputs": [
    {
     "name": "stdout",
     "output_type": "stream",
     "text": [
      "Columns in dataset: ['site_id', 'week', 'year', 'dateoff', 'ca', 'cl', 'hno3', 'hno3_ppb', 'k', 'mg', 'na', 'nh4', 'no3', 'so2', 'so2_ppb', 'so4', 'tno3', 'dateon']\n"
     ]
    },
    {
     "name": "stdin",
     "output_type": "stream",
     "text": [
      "Enter the target column name from the list above:  week\n"
     ]
    },
    {
     "name": "stdout",
     "output_type": "stream",
     "text": [
      "\n",
      "Model Evaluation:\n",
      "Mean Squared Error (MSE): 58.12\n",
      "R² Score: -0.00\n"
     ]
    }
   ],
   "source": [
    "\n",
    "import pandas as pd\n",
    "from sklearn.model_selection import train_test_split\n",
    "from sklearn.linear_model import LinearRegression\n",
    "from sklearn.metrics import mean_squared_error, r2_score\n",
    "\n",
    "# -------------------------------\n",
    "# Step 1: Load Cleaned Data\n",
    "# -------------------------------\n",
    "cleaned_file_path = r\"C:\\Users\\vrmhc\\Downloads\\cleaned_air_quality_dataset.csv\"\n",
    "df = pd.read_csv(cleaned_file_path)\n",
    "\n",
    "# -------------------------------\n",
    "# Step 2: Check Columns\n",
    "# -------------------------------\n",
    "print(\"Columns in dataset:\", df.columns.tolist())\n",
    "\n",
    "# -------------------------------\n",
    "# Step 3: Choose Target Column\n",
    "# -------------------------------\n",
    "# Replace this with the exact column name you want to predict\n",
    "target = input(\"Enter the target column name from the list above: \")\n",
    "\n",
    "# -------------------------------\n",
    "# Step 4: Select Features & Target\n",
    "# -------------------------------\n",
    "# Select all numeric columns except the target\n",
    "features = [col for col in df.select_dtypes(include=['float64', 'int64']).columns if col != target]\n",
    "\n",
    "X = df[features]\n",
    "y = df[target]\n",
    "\n",
    "# -------------------------------\n",
    "# Step 5: Split Data\n",
    "# -------------------------------\n",
    "X_train, X_test, y_train, y_test = train_test_split(\n",
    "    X, y, test_size=0.2, random_state=42\n",
    ")\n",
    "\n",
    "# -------------------------------\n",
    "# Step 6: Train Model\n",
    "# -------------------------------\n",
    "model = LinearRegression()\n",
    "model.fit(X_train, y_train)\n",
    "\n",
    "# -------------------------------\n",
    "# Step 7: Make Predictions\n",
    "# -------------------------------\n",
    "y_pred = model.predict(X_test)\n",
    "\n",
    "# -------------------------------\n",
    "# Step 8: Evaluate Model\n",
    "# -------------------------------\n",
    "mse = mean_squared_error(y_test, y_pred)\n",
    "r2 = r2_score(y_test, y_pred)\n",
    "\n",
    "print(\"\\nModel Evaluation:\")\n",
    "print(f\"Mean Squared Error (MSE): {mse:.2f}\")\n",
    "print(f\"R² Score: {r2:.2f}\")\n"
   ]
  },
  {
   "cell_type": "code",
   "execution_count": null,
   "id": "5c0d61e3-679b-433e-8062-4fad11831e30",
   "metadata": {},
   "outputs": [],
   "source": []
  }
 ],
 "metadata": {
  "kernelspec": {
   "display_name": "Python 3 (ipykernel)",
   "language": "python",
   "name": "python3"
  },
  "language_info": {
   "codemirror_mode": {
    "name": "ipython",
    "version": 3
   },
   "file_extension": ".py",
   "mimetype": "text/x-python",
   "name": "python",
   "nbconvert_exporter": "python",
   "pygments_lexer": "ipython3",
   "version": "3.12.2"
  }
 },
 "nbformat": 4,
 "nbformat_minor": 5
}
